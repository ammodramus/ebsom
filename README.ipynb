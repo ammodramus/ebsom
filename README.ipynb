{
 "cells": [
  {
   "cell_type": "markdown",
   "metadata": {},
   "source": [
    "# Ebsom\n",
    "\n",
    "## Overview\n",
    "\n",
    "This repository implements a novel [empirical\n",
    "Bayesian](https://en.wikipedia.org/wiki/Empirical_Bayes_method) model for\n",
    "low-frequency variant calling with high-coverage\n",
    "pooled-sample/high-ploidy/somatic DNA sequencing data. This approach works well\n",
    "on simulated data but is **not currently working on the real data for which it\n",
    "was designed. Use with caution.**\n",
    "\n",
    "The basic approach is to jointly model the DNA sequencing error process and the\n",
    "global allele-frequency distribution, obtaining a maximum-likelihood estimate\n",
    "of each. The inferred global distribution of allele frequencies is employed as\n",
    "the prior distribution in calculating the posterior distribution of allele\n",
    "frequencies at individual candidate loci, making this an empirical Bayesian\n",
    "approach.\n",
    "\n",
    "The sequencing error model is a fully-connected artificial neural network,\n",
    "where for each base-call the inputs are a number of covariates associated with\n",
    "that base-call. The output of the error\n",
    "model is a log-probability of the read being called as A, C, G, or T."
   ]
  },
  {
   "cell_type": "markdown",
   "metadata": {},
   "source": [
    "## Dependencies\n",
    "\n",
    "This module requires the following Python modules:\n",
    "\n",
    "  - [`tensorflow 1.14+`](https://www.tensorflow.org/)\n",
    "  - [`h5py`](https://www.h5py.org/) \n",
    "  - [`pysam`](https://github.com/pysam-developers/pysam)\n",
    "\n",
    "[`Cython`](https://cython.org) is also required."
   ]
  },
  {
   "cell_type": "markdown",
   "metadata": {},
   "source": [
    "## Model details\n",
    "\n",
    "Suppose we have $L$ BAM alignment files, each representing a different library, sequenced in a single multiplexed sequencing lane. Let there be $P$ positions in each alignment file (possibly spanning multiple chromosomes). Let the number of reads aligning to position $j$ for library $i$ be $C_{ij}$. For each base-call $\\{B_{ijk}, 1 \\le k \\le C_{ij}\\}$, we have compiled a vector $\\vec{X}_{ijk}$ of associated covariates, which may include things like the base quality, mapping quality, read\n",
    "number, position along the read, and potential for contamination at the site\n",
    "(allowing for index-swapping amongst multiplexed libraries). Let $\\psi$ be the function that maps these covariates, together with the unobserved true base, to probabilities of A, C, G, and T, such that the probability of $B_{ijk}$ given $\\vec{X}_{ijk}$, error-model parameters $\\theta_e$, and true base $Z$ is $\\psi(B_{ijk} \\mid \\vec{X}_{ijk}, Z; \\theta_e)$. \n",
    "\n",
    "Let the global allele frequency spectrum (i.e., the global distribution of allele frequencies, including frequencies $0$ and $1$) be $f(s, \\theta_a)$, where $\\theta_a$ are the parameters of the allele frequency distribution. Assume that at each position in each alignment file, there is a single major and minor allele. Then the global likelihood is\n",
    "\n",
    "\\begin{align*}\n",
    "L(\\theta_e, \\theta_a | \\textbf{B}, \\textbf{X}) = \\textrm{Pr}(\\textbf{B} \\mid \\textbf{X}; \\theta_e, \\theta_a) &= \\prod_{i=1}^L \\prod_{j=1}^P \\int_0^1 ds \\space f(s, \\theta_a) \\cdot\\\\\n",
    "&\\qquad \\qquad \\prod_{k = 1}^{C_{ij}} \\left[s \\space \\psi(B_{ijk} \\mid \\vec{X}_{ijk}, a_{ijk}; \\theta_e) + (1-s)\\psi(B_{ijk} \\mid \\vec{X}_{ijk}, A_{ijk}; \\theta_e)\\right],\n",
    "\\end{align*}\n",
    "\n",
    "where $a_{ijk}$ and $A_{ijk}$ respectively represent the minor and major alleles at a given site.\n",
    "\n",
    "This likelihood is maximized to obtain maximum-likelihood estimates $\\hat{\\theta}_e$ and $\\hat{\\theta}_a$. The distribution of allele frequencies implied by $\\hat{\\theta}_a$ is adopted as the empirical prior distribution, which can be used to calculate the posterior distribution of allele frequencies at a given site:\n",
    "\n",
    "$$\n",
    "\\textrm{Pr}(s \\space | \\space \\boldsymbol{B_{ij}}, \\boldsymbol{X_{ij}}) = \\frac{ f(s, \\hat{\\theta}_a) \\prod_{k = 1}^{C_{ij}} \\left[s \\space \\psi(B_{ijk} \\mid \\vec{X}_{ijk}, a_{ijk}; \\hat{\\theta}_e) + (1-s)\\psi(B_{ijk} \\mid \\vec{X}_{ijk}, A_{ijk}; \\hat{\\theta}_e)\\right]}{\n",
    "\\int_0^1 dt \\space f(t, \\hat{\\theta}_a) \\prod_{k = 1}^{C_{ij}} \\left[t \\space \\psi(B_{ijk} \\mid \\vec{X}_{ijk}, a_{ijk}; \\hat{\\theta}_e) + (1-t)\\psi(B_{ijk} \\mid \\vec{X}_{ijk}, A_{ijk}; \\hat{\\theta}_e)\\right]\n",
    "}.\n",
    "$$"
   ]
  },
  {
   "cell_type": "markdown",
   "metadata": {},
   "source": [
    "## Implementation notes\n",
    "\n",
    "We assume that the global distribution of allele freuqencies $f(s, \\theta_a)$ is a beta distribution with additional point-mass at 0, thus having three parameters: $a$, $b$, and $z$, where $a>0$ and $b>0$ are the typical beta distribution parameters, and $0 \\le z \\le 1$ is the probability that the minor allele frequency is $0$. Since we assume we know the major and minor alleles at each site, we fold the distribution about $1/2$. \n",
    "\n",
    "In practice, it is difficult to calculate the likelihood (or log-likelihood) exactly, owing to the integral inside of the products. To simplify calculation, we discretize the beta distribution to replace the integral with a sum. Discrete frequencies are more highly concentrated near $0$ than $0.5$, following a near-exponential spacing. Probabilities for each discrete frequency are calculated as the integral of the beta-distribution PDF between neighboring frequency midpoints.\n",
    "\n",
    "The sequencing error function $\\psi$ takes the form of a three-layer fully connect artificial neural network with log-softmax output, so that $\\theta_e$ is comprised of the weight and bias terms of each layer.\n",
    "\n",
    "We optimize the likelihood using the stochastic optimization algorithm ADAM, a variant of stochastic gradient descent with momentum. This converges much more quickly than quasi-Newton methods like L-BFGS-B, which must evaluate the entirety of the data before updating parameters.\n",
    "\n",
    "The minor allele at each position is assumed to be the second-most common base-call at the position. If there is a tie, it is chosen randomly from the three non-major bases during each evaluation in optimization.\n",
    "\n",
    "All calculations are performed in log-space."
   ]
  }
 ],
 "metadata": {
  "hide_input": false,
  "kernelspec": {
   "display_name": "Python [anaconda2]",
   "language": "python",
   "name": "Python [anaconda2]"
  },
  "language_info": {
   "codemirror_mode": {
    "name": "ipython",
    "version": 2
   },
   "file_extension": ".py",
   "mimetype": "text/x-python",
   "name": "python",
   "nbconvert_exporter": "python",
   "pygments_lexer": "ipython2",
   "version": "2.7.11"
  }
 },
 "nbformat": 4,
 "nbformat_minor": 0
}
